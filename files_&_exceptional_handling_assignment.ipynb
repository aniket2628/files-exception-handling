{
  "nbformat": 4,
  "nbformat_minor": 0,
  "metadata": {
    "colab": {
      "provenance": [],
      "toc_visible": true
    },
    "kernelspec": {
      "name": "python3",
      "display_name": "Python 3"
    },
    "language_info": {
      "name": "python"
    }
  },
  "cells": [
    {
      "cell_type": "markdown",
      "source": [
        "1. What is the difference between interpreted and compiled languages?\n",
        ">> Interpretated language converts each line one by one and executes it at  \n",
        "   runtime while compiled languages convert whole code into machine code before executing the code.\n",
        "\n",
        "2. What is exception handling in Python?\n",
        ">> Exception handling is handles any errors in program systematically without   \n",
        "   causing program being stoped from executing and provides room for handling it.\n",
        "\n",
        "3. What is the purpose of the finally block in exception handling?\n",
        ">> Finally block is executed everytime whether try or except block is required\n",
        "   to execute or not it used whn we want to run certain code everytime without any change.\n",
        "\n",
        "4. What is logging in Python?\n",
        ">> logging is used to provide info of the execution of any program through\n",
        "   multiple level of severity through which we can provide info on how the program is running it used to track evemts and error in the program.\n",
        "\n",
        "5. What is the significance of the __del__ method in Python?\n",
        ">> __del__ is used to destroy any obj or variable of class it is used to  \n",
        "   destroy and free up memory space.\n",
        "\n",
        "6. What is the difference between import and from ... import in Python?\n",
        ">> when import is used the whole module is imported while when from is used  \n",
        "   with import a specific funciton or variable from module is imported.\n",
        "\n",
        "7. How can you handle multiple exceptions in Python?\n",
        ">> To ahndle multiple exceptions we can use multiple except blocks or we can\n",
        "   use a tuple of multiple exceptions in one except block and also we can use the whole exception module to define all the exceptions\n",
        "\n",
        "8. What is the purpose of the with statement when handling files in Python?\n",
        ">> with statement doesn't require files to be closed once they are opened and\n",
        "   modified to apply the modifications.\n",
        "\n",
        "9. What is the difference between multithreading and multiprocessing?\n",
        ">> Multithreading allows multiple threads of a process to run parallaly on a\n",
        "   shared memory block while multiprocessing allows multiple process to run on their on memory blocks to run parallaly.\n",
        "\n",
        "10. What are the advantages of using logging in a program?\n",
        ">> Logging is essential for tracking events, debugging, and maintaining\n",
        "   software. Instead of using print(), logging provides structured, persistent, and configurable event tracking.\n",
        "\n",
        "11. What is memory management in Python?\\\n",
        ">> Memory management in Python involves allocating, using, and deallocating\n",
        "   memory efficiently. Python automatically handles memory using features like reference counting, garbage collection, and memory pools to optimize performance.\n",
        "\n",
        "12. What are the basic steps involved in exception handling in Python?\n",
        ">>  basic steps of exception handling involves try and except blocks while finally and else blocks are used as required.\n",
        "\n",
        "13. Why is memory management important in Python?\n",
        ">>  Memory management is crucial in Python to ensure efficient use of system resources, prevent memory leaks, and optimize program performance. Since Python handles memory allocation automatically, understanding how it works helps developers write efficient and scalable code.\n",
        "\n",
        "14. What is the role of try and except in exception handling?\n",
        ">> The try block contains code that might raise an exception (error).\n",
        "   If an error occurs in try, the except block catches and handles it.\n",
        "\n",
        "15. How does Python's garbage collection system work?\n",
        ">> Python's garbage collection (GC) system automatically manages memory by identifying and removing unused objects. It uses reference counting and a cyclic garbage collector to free up memory efficiently.\n",
        "\n",
        "16. What is the purpose of the else block in exception handling?\n",
        ">> else block is used when no exception occurs in try block or ecpect block is not excecuted.\n",
        "\n",
        "17. What are the common logging levels in Python?\n",
        ">> common levels of python debugging are debug, info, warning , error ,shutdown.\n",
        "\n",
        "18. What is the difference between os.fork() and multiprocessing in Python?\n",
        ">> os.fork() is a system level call which creates a new process which is same  \n",
        "  as the parent sharing same resources while multiprocessing provides much more flexiblity and can be used on multiple platforms nad helps in managing processes.\n",
        "\n",
        "19. What is the importance of closing a file in Python?\n",
        ">> Closing a file saves the changes in the original file for user friendly use and free up sytem resources or to prevent data loss.\n",
        "\n",
        "20. What is the difference between file.read() and file.readline() in Python?\n",
        ">> file.read() reads all the content from the cursor position while\n",
        " file.readline() only reads the first line of the text.\n",
        "\n",
        "21.  What is the logging module in Python used for?\n",
        ">> logging is used to sytematically log the events of a program and provide information so it helps in understanding the working and ensure smoooth running and providing information to debug.\n",
        "\n",
        "22. What is the os module in Python used for in file handling?\n",
        ">> os module is used to acces existing files in the computer and perform operation on the files which already there.\n",
        "\n",
        "23. What are the challenges associated with memory management in Python?\n",
        ">> Memory management in Python comes with several challenges due to its dynamic nature and automatic garbage collection. One key issue is memory leaks, which can occur when objects remain referenced unintentionally, preventing the garbage collector from reclaiming memory. Circular references, where two or more objects reference each other, can also delay memory deallocation, though Python's garbage collector has mechanisms to handle such cases.\n",
        "\n",
        "24. How do you raise an exception manually in Python?\n",
        ">> by defining a custom function or a class containing custom errors that uses raise keyword we can raise exceptions mannually.\n",
        "\n",
        "25. Why is it important to use multithreading in certain applications?\n",
        ">> It reduces the runtime of programs which can help in better memory allocation and freeing up space for new operations. multithreading is important in certain applications because it allows multiple threads to execute concurrently, improving performance, responsiveness, and resource utilization."
      ],
      "metadata": {
        "id": "0l18TijpyBLQ"
      }
    },
    {
      "cell_type": "code",
      "source": [
        "#1. How can you open a file for writing in Python and write a string to it?\n",
        "with(open(\"test.txt\",\"w\")) as f:\n",
        "    f.write(\"hello world\")"
      ],
      "metadata": {
        "id": "LDtdfkdBceox"
      },
      "execution_count": null,
      "outputs": []
    },
    {
      "cell_type": "code",
      "source": [
        "#2. Write a Python program to read the contents of a file and print each line?\n",
        "with(open(\"test.txt\",\"r\")) as f:\n",
        "    for line in f:\n",
        "        print(line)"
      ],
      "metadata": {
        "id": "wl-vcqhTci24"
      },
      "execution_count": null,
      "outputs": []
    },
    {
      "cell_type": "code",
      "source": [
        "#3. How would you handle a case where the file doesn't exist while trying to open it for reading?\n",
        "try:\n",
        "    with open(\"example.txt\", \"r\") as file:\n",
        "        for line in file:\n",
        "            print(line)\n",
        "except FileNotFoundError:\n",
        "    print(\"Error: The file does not exist. Please check the file name and try again.\")"
      ],
      "metadata": {
        "id": "TAjws7bFcjP9"
      },
      "execution_count": null,
      "outputs": []
    },
    {
      "cell_type": "code",
      "source": [
        "#4. Write a Python script that reads from one file and writes its content to another file?\n",
        "with open(\"source.txt\", \"w\") as file:\n",
        "    file.write(\"This is the first line.\\n\")\n",
        "    file.write(\"This is the second line.\\n\")\n",
        "    file.write(\"This is the third line.\\n\")\n",
        "\n",
        "print(\"Source file created successfully.\")\n",
        "\n",
        "try:\n",
        "    with open(\"source.txt\", \"r\") as source_file, open(\"destination.txt\", \"w\") as destination_file:\n",
        "        for line in source_file:\n",
        "            destination_file.write(line)\n",
        "    print(\"File copied successfully.\")\n",
        "except FileNotFoundError:\n",
        "    print(\"Error: The source file does not exist.\")\n",
        "except IOError:\n",
        "    print(\"Error: An issue occurred while reading or writing the file.\")\n"
      ],
      "metadata": {
        "id": "wIaSuxqNcjt1"
      },
      "execution_count": null,
      "outputs": []
    },
    {
      "cell_type": "code",
      "source": [
        "#5. How would you catch and handle division by zero error in Python?\n",
        "try:\n",
        "    numerator = int(input(\"Enter numerator: \"))\n",
        "    denominator = int(input(\"Enter denominator: \"))\n",
        "    result = numerator / denominator\n",
        "    print(\"Result:\", result)\n",
        "except ZeroDivisionError as e:\n",
        "    print(f\"Error: Division by zero is not allowed.{e}\")\n"
      ],
      "metadata": {
        "colab": {
          "base_uri": "https://localhost:8080/"
        },
        "id": "BVcYxLYyewEp",
        "outputId": "bfab2939-fb4f-418f-cbfb-3d9d6dabb824"
      },
      "execution_count": 5,
      "outputs": [
        {
          "output_type": "stream",
          "name": "stdout",
          "text": [
            "Enter numerator: 5\n",
            "Enter denominator: 0\n",
            "Error: Division by zero is not allowed.division by zero\n"
          ]
        }
      ]
    },
    {
      "cell_type": "code",
      "source": [
        "#6. Write a Python program that logs an error message to a log file when a division by zero exception occurs?\n",
        "import logging\n",
        "\n",
        "logging.basicConfig(filename=\"error.log\", level=logging.ERROR)\n",
        "\n",
        "try:\n",
        "    numerator = int(input(\"Enter numerator: \"))\n",
        "    denominator = int(input(\"Enter denominator: \"))\n",
        "    result = numerator / denominator\n",
        "    print(\"Result:\", result)\n",
        "except ZeroDivisionError as e:\n",
        "    logging.error(f\"Error: Division by zero is not allowed.{e}\")"
      ],
      "metadata": {
        "id": "kfqkbliQewWP"
      },
      "execution_count": null,
      "outputs": []
    },
    {
      "cell_type": "code",
      "source": [
        "#7. How do you log information at different levels (INFO, ERROR, WARNING) in Python using the logging module?\n",
        "import logging\n",
        "\n",
        "logging.basicConfig(filename=\"info.log\",level=logging.INFO)\n",
        "\n",
        "logging.info(\"This is an informational message.\")\n",
        "\n",
        "logging.warning(\"This is a warning message.\")\n",
        "\n",
        "logging.error(\"This is an error message.\")"
      ],
      "metadata": {
        "id": "to2ttlkWew2c"
      },
      "execution_count": null,
      "outputs": []
    },
    {
      "cell_type": "code",
      "source": [
        "#8. Write a program to handle a file opening error using exception handling?\n",
        "try:\n",
        "    with open(\"file1.txt\", \"r\") as file:\n",
        "        content = file.read()\n",
        "except FileNotFoundError:\n",
        "    print(\"Error: The file does not exist.\")"
      ],
      "metadata": {
        "id": "z_YOFZTQexFn"
      },
      "execution_count": null,
      "outputs": []
    },
    {
      "cell_type": "code",
      "source": [
        "#9. How can you read a file line by line and store its content in a list in Python?\n",
        "with open(\"file2.txt\", \"r\") as file:\n",
        "    lines = file.readlines()\n",
        "\n",
        "for line in lines:\n",
        "    print(line)"
      ],
      "metadata": {
        "id": "d4h03s1YexTt"
      },
      "execution_count": null,
      "outputs": []
    },
    {
      "cell_type": "code",
      "source": [
        "#10. How can you append data to an existing file in Python?\n",
        "with open(\"file3.txt\", \"a\") as file:\n",
        "    file.write(\"This is the appended data.\\n\")"
      ],
      "metadata": {
        "id": "52ejxPYzexhC"
      },
      "execution_count": null,
      "outputs": []
    },
    {
      "cell_type": "code",
      "source": [
        "#11.Write a Python program that uses a try-except block to handle an error when attempting to access a\n",
        "#   dictionary key that doesn't exist?\n",
        "my_dict = {\"a\": 1, \"b\": 2, \"c\": 3}\n",
        "\n",
        "try:\n",
        "    value = my_dict[\"d\"]\n",
        "    print(\"Value:\", value)\n",
        "except KeyError:\n",
        "    print(\"Error: The key does not exist in the dictionary.\")"
      ],
      "metadata": {
        "id": "k7eGlXqJextJ"
      },
      "execution_count": null,
      "outputs": []
    },
    {
      "cell_type": "code",
      "source": [
        "#12. Write a program that demonstrates using multiple except blocks to handle different types of exceptions?\n",
        "try:\n",
        "    num = int(input(\"Enter a number: \"))\n",
        "    result = 10 / num\n",
        "    print(\"Result:\", result)\n",
        "except ValueError:\n",
        "    print(\"Error: Invalid input. Please enter a valid number.\")\n",
        "except ZeroDivisionError:\n",
        "    print(\"Error: Division by zero is not allowed.\")"
      ],
      "metadata": {
        "id": "LqUs8ICvex48"
      },
      "execution_count": null,
      "outputs": []
    },
    {
      "cell_type": "code",
      "source": [
        "#13. How would you check if a file exists before attempting to read it in Python?\n",
        "import os\n",
        "file_path = \"example.txt\"\n",
        "\n",
        "if os.path.exists(file_path):\n",
        "  with open(file_path, \"r\") as file:\n",
        "    print(file.read())\n",
        "else:\n",
        "  print(\"Error: The file does not exist.\")"
      ],
      "metadata": {
        "id": "82fRu8qyifFv"
      },
      "execution_count": null,
      "outputs": []
    },
    {
      "cell_type": "code",
      "source": [
        "#14.  Write a program that uses the logging module to log both informational and error messages.\n",
        "import logging\n",
        "\n",
        "logging.basicConfig(filename=\"info_error.log\", level=logging.INFO)\n",
        "\n",
        "logging.info(\"This is an informational message.\")\n",
        "\n",
        "logging.error(\"This is an error message.\")"
      ],
      "metadata": {
        "id": "ofPMlFekifXW"
      },
      "execution_count": null,
      "outputs": []
    },
    {
      "cell_type": "code",
      "source": [
        "#15.  Write a Python program that prints the content of a file and handles the case when the file is empty.\n",
        "try:\n",
        "    file_path = \"example.txt\"  # Replace with your file name\n",
        "\n",
        "    with open(file_path, \"r\") as file:\n",
        "        content = file.read().strip()  # Read content and remove extra spaces/newlines\n",
        "\n",
        "        if content:\n",
        "            print(\"File Content:\\n\", content)\n",
        "        else:\n",
        "            print(\"The file is empty.\")\n",
        "\n",
        "except FileNotFoundError:\n",
        "    print(\"Error: The file does not exist.\")\n"
      ],
      "metadata": {
        "id": "0HREWzheidob"
      },
      "execution_count": null,
      "outputs": []
    },
    {
      "cell_type": "code",
      "source": [
        "#16.  Demonstrate how to use memory profiling to check the memory usage of a small program?"
      ],
      "metadata": {
        "id": "7oO8PA_1QE_t"
      },
      "execution_count": null,
      "outputs": []
    },
    {
      "cell_type": "code",
      "source": [
        "#17. Write a Python program to create and write a list of numbers to a file, one number per line?\n",
        "numbers = list(range(1, 21))\n",
        "\n",
        "with open(\"numbers.txt\", \"w\") as file:\n",
        "    for number in numbers:\n",
        "        file.write(f\"{number}\\n\")\n",
        "\n",
        "print(\"Numbers have been written to numbers.txt successfully.\")"
      ],
      "metadata": {
        "id": "b2yh04TeQKok"
      },
      "execution_count": null,
      "outputs": []
    },
    {
      "cell_type": "code",
      "source": [
        "#18. How would you implement a basic logging setup that logs to a file with rotation after 1MB?"
      ],
      "metadata": {
        "id": "PfSegMdFQKp_"
      },
      "execution_count": null,
      "outputs": []
    },
    {
      "cell_type": "code",
      "source": [
        "#19. Write a program that handles both IndexError and KeyError using a try-except block?\n",
        "try:\n",
        "    my_list = [1, 2, 3]\n",
        "    index = int(input(\"Enter an index: \"))\n",
        "    value = my_list[index]\n",
        "    print(\"Value at index\", index, \"is\", value)\n",
        "except IndexError:\n",
        "    print(\"Error: Index out of range.\")\n",
        "except KeyError:\n",
        "    print(\"Error: Key not found in dictionary\")"
      ],
      "metadata": {
        "id": "gW-2qe3jQKtr"
      },
      "execution_count": null,
      "outputs": []
    },
    {
      "cell_type": "code",
      "source": [
        "#20.  How would you open a file and read its contents using a context manager in Python?\n",
        "with open(\"example.txt\", \"r\") as file:\n",
        "    content = file.read()\n",
        "print(content)\n"
      ],
      "metadata": {
        "id": "d9SP4G33QKvX"
      },
      "execution_count": null,
      "outputs": []
    },
    {
      "cell_type": "code",
      "source": [
        "#21. Write a Python program that reads a file and prints the number of occurrences of a specific word.\n",
        "def count_word_occurrences(file_path, target_word):\n",
        "    with open(file_path, \"r\") as file:\n",
        "            content = file.read().lower()  # Read and convert to lowercase\n",
        "            words = content.split()  # Split content into words\n",
        "            count = words.count(target_word.lower())  # Count occurrences of the target word\n",
        "            print(f\"The word '{target_word}' appears {count} times in the file.\")\n",
        "\n",
        "file_path = #any file path\n",
        "target_word = # any word\n",
        "count_word_occurrences(file_path, target_word)\n"
      ],
      "metadata": {
        "id": "4PxHEpDGQKzf"
      },
      "execution_count": null,
      "outputs": []
    },
    {
      "cell_type": "code",
      "source": [
        "#22.  How can you check if a file is empty before attempting to read its contents?\n",
        "import os\n",
        "\n",
        "file_path = \"example.txt\"\n",
        "\n",
        "if os.path.exists(file_path) and os.path.getsize(file_path) > 0:\n",
        "    with open(file_path, \"r\") as file:\n",
        "        print(file.read())\n",
        "else:\n",
        "    print(\"The file is empty or does not exist.\")\n"
      ],
      "metadata": {
        "id": "h-0vYovxSvV1"
      },
      "execution_count": null,
      "outputs": []
    },
    {
      "cell_type": "code",
      "source": [
        "#23. Write a Python program that writes to a log file when an error occurs during file handling.\n",
        "import logging\n",
        "\n",
        "logging.basicConfig(filename=\"error.log\", level=logging.ERROR,\n",
        "                    format=\"%(asctime)s - %(levelname)s - %(message)s\")\n",
        "\n",
        "def read_file(file_path):\n",
        "    try:\n",
        "        with open(file_path, \"r\") as file:\n",
        "            content = file.read()\n",
        "            print(content)\n",
        "    except FileNotFoundError:\n",
        "        logging.error(f\"File not found: {file_path}\")\n",
        "        print(\"Error: The file does not exist. Check error.log for details.\")\n",
        "    except IOError as e:\n",
        "        logging.error(f\"IO error while accessing file {file_path}: {e}\")\n",
        "        print(\"Error: An issue occurred while reading the file. Check error.log for details.\")\n",
        "\n",
        "file_path = \"example.txt\"  # example file\n",
        "read_file(file_path)\n"
      ],
      "metadata": {
        "id": "6Uqpa6QlTnOK"
      },
      "execution_count": null,
      "outputs": []
    }
  ]
}